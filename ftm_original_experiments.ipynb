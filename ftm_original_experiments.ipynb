{
 "cells": [
  {
   "cell_type": "code",
   "execution_count": null,
   "metadata": {},
   "outputs": [],
   "source": [
    "\n",
    "import imp\n",
    "import ftm.ftm.core.model as model\n",
    "\n",
    "import pandas as pd\n",
    "import numpy as np"
   ]
  },
  {
   "cell_type": "code",
   "execution_count": null,
   "metadata": {},
   "outputs": [],
   "source": [
    "#grab parameters\n",
    "\n",
    "xlsx_path='ftm/(personal) Task_based_model_inputs (for github.com_epoch-research_ftm).xlsx'\n",
    "sheet_name='Parameters'\n",
    "\n",
    "parameters_sheet=pd.read_excel(xlsx_path,sheet_name=sheet_name)\n",
    "best_guess_parameters={row['Parameter id'] : row['Best guess'] for parameter,row in parameters_sheet.iterrows()}"
   ]
  },
  {
   "cell_type": "code",
   "execution_count": null,
   "metadata": {},
   "outputs": [],
   "source": [
    "imp.reload(model)\n",
    "\n",
    "ftm_model=model.SimulateTakeOff(**best_guess_parameters)\n",
    "\n",
    "ftm_model.run_simulation()\n",
    "\n",
    "#for goods production\n",
    "capital_stock=ftm_model.capital_goods\n",
    "task_input_stock=ftm_model.task_input_goods\n",
    "capital_task_weights_goods=ftm_model.capital_task_weights_goods\n",
    "labour_task_weights_goods=ftm_model.labour_task_weights_goods\n",
    "capital_substitution=ftm_model.capital_substitution_goods\n",
    "\n",
    "\n",
    "production_dict=ftm_model.production_dict\n",
    "\n",
    "\n",
    "#hardware\n",
    "if 0:\n",
    "    cog_inputs=production_dict['hardware rnd']['Cognitive inputs']\n",
    "\n",
    "if 1: #task weights\n",
    "\n",
    "\n",
    "\n",
    "#Doing this we see we were right!\n",
    "#It's the output to automation gwp factor! That was never mentioned!"
   ]
  }
 ],
 "metadata": {
  "kernelspec": {
   "display_name": "Python 3.11.5 ('scalingtrends')",
   "language": "python",
   "name": "python3"
  },
  "language_info": {
   "name": "python",
   "version": "3.11.5"
  },
  "orig_nbformat": 4,
  "vscode": {
   "interpreter": {
    "hash": "4b04c9ef156490caa721f74da441da09a740d609ffaa878a7e907ccb27588497"
   }
  }
 },
 "nbformat": 4,
 "nbformat_minor": 2
}
